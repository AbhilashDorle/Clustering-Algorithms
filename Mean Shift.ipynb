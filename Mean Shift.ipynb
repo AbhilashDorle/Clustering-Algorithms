{
 "cells": [
  {
   "cell_type": "markdown",
   "metadata": {},
   "source": [
    "# MeanShift"
   ]
  },
  {
   "cell_type": "code",
   "execution_count": 14,
   "metadata": {},
   "outputs": [
    {
     "name": "stdout",
     "output_type": "stream",
     "text": [
      "2\n"
     ]
    }
   ],
   "source": [
    "import numpy as np\n",
    "from sklearn.cluster import KMeans\n",
    "import pandas as pd\n",
    "import matplotlib.pyplot as plt\n",
    "import pylab as pl\n",
    "import re\n",
    "from numpy import array\n",
    "\n",
    "with open(\"C://Dr. Bhandarkar- Directed Study//nounVectorsFastext.txt\",'r') as myfile:\n",
    "    tempdata=myfile.read()\n",
    "opbrack=[]\n",
    "closebrack=[]\n",
    "names=[]\n",
    "for i in range(0,tempdata.__len__()):\n",
    "    if tempdata[i]=='[':\n",
    "        opbrack.append(i)\n",
    "    if tempdata[i]==']':\n",
    "        closebrack.append(i)\n",
    "names=[]\n",
    "str=tempdata.split(']')\n",
    "for i in range(0,len(str)-1):\n",
    "    a = re.findall(r'\\w+', str[i])\n",
    "    names.append(a[0])\n",
    "    \n",
    "count=0\n",
    "data=[]\n",
    "while count<opbrack.__len__():\n",
    "    data.append(tempdata[opbrack[count]+1:closebrack[count]])\n",
    "    count=count+1\n",
    "count=0\n",
    "\n",
    "while count<data.__len__():\n",
    "    counter=0\n",
    "    temp=data[count]\n",
    "    while counter<data[count].__len__():\n",
    "        if temp[counter]==\" \":\n",
    "            temp=temp.replace(temp[counter],\"\")\n",
    "        data[count]=temp\n",
    "        counter=counter+1\n",
    "    count=count+1\n",
    "count=0\n",
    "while count<data.__len__():\n",
    "    counter=0\n",
    "    temp=data[count]\n",
    "    while counter<data[count].__len__():\n",
    "        if temp[counter]==\",\":\n",
    "            temp=temp.replace(temp[counter],\" \")\n",
    "        data[count]=temp\n",
    "        counter=counter+1\n",
    "    count=count+1\n",
    "count=0\n",
    "X=[]\n",
    "while count<data.__len__():\n",
    "    temp=data[count]\n",
    "    floats = [float(x) for x in temp.split()]\n",
    "    X.append(floats)\n",
    "    count=count+1\n",
    "X=np.array(X)\n"
   ]
  },
  {
   "cell_type": "code",
   "execution_count": 30,
   "metadata": {},
   "outputs": [],
   "source": [
    "from sklearn.cluster import MeanShift, estimate_bandwidth, get_bin_seeds\n",
    "bandwidth = estimate_bandwidth(X,quantile=0.5, n_samples=40)\n",
    "seeds = get_bin_seeds(X,bin_size=bandwidth)"
   ]
  },
  {
   "cell_type": "code",
   "execution_count": 35,
   "metadata": {},
   "outputs": [
    {
     "name": "stdout",
     "output_type": "stream",
     "text": [
      "[0 0 0 0 0 0 0 0 0 0 0 0 0 0 0 0 0 0 0 0 0 0 0 0 0 0 0 0 0 0 0 0 0 0 0 0 0\n",
      " 0 0 0 0 0 0 0 0 0 0 0 0 0 0 0 0 0 0 0 0 0 0 0 0 0 0 0 0 0 0 0 0 0 0 0 0 0\n",
      " 0 0 0 0 0 0]\n",
      "(1,)\n"
     ]
    }
   ],
   "source": [
    "\n",
    "cluster = MeanShift(bandwidth = bandwidth, seeds=seeds,cluster_all=True).fit(X)\n",
    "labels=cluster.labels_\n",
    "print(labels)\n",
    "print(np.unique(labels).shape)"
   ]
  },
  {
   "cell_type": "code",
   "execution_count": 34,
   "metadata": {},
   "outputs": [
    {
     "name": "stdout",
     "output_type": "stream",
     "text": [
      "[['person', 'tabl', 'train', 'cat', 'dog', 'skateboard', 'pizza', 'hors', 'bu', 'ski', 'bed', 'giraff', 'ball', 'car', 'eleph', 'toilet', 'clock', 'umbrella', 'bench', 'laptop', 'motorcycl', 'zebra', 'kite', 'cake', 'sink', 'truck', 'boat', 'chair', 'frisbe', 'bird', 'surfboard', 'banana', 'cow', 'bowl', 'orang', 'airplan', 'bear', 'couch', 'sandwich', 'vase', 'sheep', 'tie', 'cell', 'teddy', 'snowboard', 'fire', 'stop', 'refriger', 'broccoli', 'book', 'bicycl', 'keyboard', 'oven', 'donut', 'cup', 'tennis', 'televis', 'bottl', 'appl', 'hot', 'suitcas', 'remot', 'traffic', 'carrot', 'scissor', 'microwav', 'knife', 'plant', 'baseball', 'mous', 'fork', 'parking', 'toothbrush', 'wine', 'spoon', 'backpack', 'toaster', 'baseball', 'handbag', 'hair'], [], [], [], [], [], [], [], [], [], []]\n"
     ]
    }
   ],
   "source": [
    "clust=[]\n",
    "clusternames=[]\n",
    "listofl=[]\n",
    "for i in range(0,11):\n",
    "    arr=list(np.where(labels==i))\n",
    "    clust.append(arr)\n",
    "\n",
    "for i in range(0,len(clust)):\n",
    "    temp=clust[i]\n",
    "    for k in range(0,len(clust[i])):\n",
    "        clusternames=[]\n",
    "        for l in range(0,len(clust[i][k])):\n",
    "            clusternames.append(names[clust[i][k][l]])\n",
    "        listofl.append(clusternames)\n",
    "print(listofl)"
   ]
  }
 ],
 "metadata": {
  "kernelspec": {
   "display_name": "Python 3",
   "language": "python",
   "name": "python3"
  },
  "language_info": {
   "codemirror_mode": {
    "name": "ipython",
    "version": 3
   },
   "file_extension": ".py",
   "mimetype": "text/x-python",
   "name": "python",
   "nbconvert_exporter": "python",
   "pygments_lexer": "ipython3",
   "version": "3.7.1"
  }
 },
 "nbformat": 4,
 "nbformat_minor": 2
}
