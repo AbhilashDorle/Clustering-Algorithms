{
 "cells": [
  {
   "cell_type": "code",
   "execution_count": 1,
   "metadata": {},
   "outputs": [
    {
     "data": {
      "text/plain": [
       "<Figure size 640x480 with 1 Axes>"
      ]
     },
     "metadata": {},
     "output_type": "display_data"
    }
   ],
   "source": [
    "import numpy as np\n",
    "from sklearn.cluster import KMeans\n",
    "import pandas as pd\n",
    "import matplotlib.pyplot as plt\n",
    "import pylab as pl\n",
    "import re\n",
    "from numpy import array\n",
    "\n",
    "with open(\"C://Dr. Bhandarkar- Directed Study//nounVectorsFastext.txt\",'r') as myfile:\n",
    "    tempdata=myfile.read()\n",
    "opbrack=[]\n",
    "closebrack=[]\n",
    "names=[]\n",
    "for i in range(0,tempdata.__len__()):\n",
    "    if tempdata[i]=='[':\n",
    "        opbrack.append(i)\n",
    "    if tempdata[i]==']':\n",
    "        closebrack.append(i)\n",
    "names=[]\n",
    "str=tempdata.split(']')\n",
    "for i in range(0,len(str)-1):\n",
    "    a = re.findall(r'\\w+', str[i])\n",
    "    names.append(a[0])\n",
    "    \n",
    "count=0\n",
    "data=[]\n",
    "while count<opbrack.__len__():\n",
    "    data.append(tempdata[opbrack[count]+1:closebrack[count]])\n",
    "    count=count+1\n",
    "count=0\n",
    "\n",
    "while count<data.__len__():\n",
    "    counter=0\n",
    "    temp=data[count]\n",
    "    while counter<data[count].__len__():\n",
    "        if temp[counter]==\" \":\n",
    "            temp=temp.replace(temp[counter],\"\")\n",
    "        data[count]=temp\n",
    "        counter=counter+1\n",
    "    count=count+1\n",
    "count=0\n",
    "while count<data.__len__():\n",
    "    counter=0\n",
    "    temp=data[count]\n",
    "    while counter<data[count].__len__():\n",
    "        if temp[counter]==\",\":\n",
    "            temp=temp.replace(temp[counter],\" \")\n",
    "        data[count]=temp\n",
    "        counter=counter+1\n",
    "    count=count+1\n",
    "count=0\n",
    "X=[]\n",
    "while count<data.__len__():\n",
    "    temp=data[count]\n",
    "    floats = [float(x) for x in temp.split()]\n",
    "    X.append(floats)\n",
    "    count=count+1\n",
    "X=np.array(X)\n",
    "Nc=range(1,79)\n",
    "kmeans= [KMeans(n_clusters=i) for i in Nc]\n",
    "score = [kmeans[i].fit(X).score(X) for i in range(len(kmeans))]\n",
    "\n",
    "pl.plot(Nc,score)\n",
    "\n",
    "pl.xlabel('Number of Clusters')\n",
    "\n",
    "pl.ylabel('Score')\n",
    "\n",
    "pl.title('Curve')\n",
    "\n",
    "pl.savefig(\"Elbow Method Curve\")\n",
    "\n",
    "pl.show()"
   ]
  },
  {
   "cell_type": "code",
   "execution_count": 2,
   "metadata": {},
   "outputs": [
    {
     "data": {
      "image/png": "[encoded data removed]",
      "text/plain": [
       "<Figure size 432x288 with 1 Axes>"
      ]
     },
     "metadata": {
      "needs_background": "light"
     },
     "output_type": "display_data"
    }
   ],
   "source": [
    "kmeans=KMeans(n_clusters=17)\n",
    "kmeans.fit(X)\n",
    "kmeansoutput=kmeans.predict(X)\n",
    "pl.figure(\"Kmeans clustering\")\n",
    "plt.scatter(X[:, 0], X[:, 1], c=kmeansoutput, s=50, cmap='viridis')\n",
    "\n",
    "centers = kmeans.cluster_centers_\n",
    "plt.scatter(centers[:, 0], centers[:, 1], c='black', s=200, alpha=0.5)\n",
    "plt.title('Clusters')\n",
    "plt.savefig('K-means Output')\n"
   ]
  },
  {
   "cell_type": "code",
   "execution_count": 4,
   "metadata": {},
   "outputs": [
    {
     "name": "stdout",
     "output_type": "stream",
     "text": [
      "[ 3  3  6  3  3 11  5  7  6 11  3  7  9 14  7  4  3  3  3  8 14  7  3  5\n",
      "  4 14  3  3  9  3  2 16  7 15  3  6  3  3  5 13  7  3  3  3 11  1  1 10\n",
      "  5  3 14  8 10  5 15  9  3  0 16  5  3  3  1  5 15 10 15 13  9  8 15  1\n",
      " 12  0 15  3 10  9  3  3]\n",
      "[['bottl', 'wine'], ['fire', 'stop', 'traffic', 'parking'], ['surfboard'], ['person', 'tabl', 'cat', 'dog', 'bed', 'clock', 'umbrella', 'bench', 'kite', 'boat', 'chair', 'bird', 'orang', 'bear', 'couch', 'tie', 'cell', 'teddy', 'book', 'televis', 'suitcas', 'remot', 'backpack', 'handbag', 'hair']]\n"
     ]
    }
   ],
   "source": [
    "labels=kmeans.labels_\n",
    "print(labels)\n",
    "clust=[]\n",
    "clusternames=[]\n",
    "listofl=[]\n",
    "for i in range(0,4):\n",
    "    arr=list(np.where(labels==i))\n",
    "    clust.append(arr)\n",
    "for i in range(0,len(clust)):\n",
    "    temp=clust[i]\n",
    "    for k in range(0,len(clust[i])):\n",
    "        clusternames=[]\n",
    "        for l in range(0,len(clust[i][k])):\n",
    "            clusternames.append(names[clust[i][k][l]])\n",
    "        listofl.append(clusternames)\n",
    "print(listofl)"
   ]
  }
 ],
 "metadata": {
  "kernelspec": {
   "display_name": "Python 3",
   "language": "python",
   "name": "python3"
  },
  "language_info": {
   "codemirror_mode": {
    "name": "ipython",
    "version": 3
   },
   "file_extension": ".py",
   "mimetype": "text/x-python",
   "name": "python",
   "nbconvert_exporter": "python",
   "pygments_lexer": "ipython3",
   "version": "3.7.3"
  }
 },
 "nbformat": 4,
 "nbformat_minor": 2
}
